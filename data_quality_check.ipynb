{
 "cells": [
  {
   "cell_type": "code",
   "execution_count": null,
   "metadata": {},
   "outputs": [
    {
     "name": "stdout",
     "output_type": "stream",
     "text": [
      "Data Quality Check complete. Summary saved to 'data_quality_report.txt'.\n",
      "--- Data Quality Summary Report ---\n",
      "\n",
      "1. Missing Values:\n",
      "   No missing values detected.\n",
      "2. Duplicate Rows:\n",
      "   Number of duplicate rows: 1177\n",
      "\n",
      "3. Outliers Detected:\n",
      "   fixed acidity: 357 outlier(s)\n",
      "   volatile acidity: 377 outlier(s)\n",
      "   citric acid: 509 outlier(s)\n",
      "   residual sugar: 118 outlier(s)\n",
      "   chlorides: 286 outlier(s)\n",
      "   free sulfur dioxide: 62 outlier(s)\n",
      "   total sulfur dioxide: 10 outlier(s)\n",
      "   density: 3 outlier(s)\n",
      "   pH: 73 outlier(s)\n",
      "   sulphates: 191 outlier(s)\n",
      "   alcohol: 3 outlier(s)\n",
      "   quality: 228 outlier(s)\n",
      "\n"
     ]
    }
   ],
   "source": [
    "import pandas as pd\n",
    "import numpy as np\n",
    "\n",
    "def data_quality_check(file_path, report_file=\"data_quality_report.txt\"):\n",
    "    \n",
    "    # Load dataset\n",
    "    try:\n",
    "        data = pd.read_csv(file_path)\n",
    "    except Exception as e:\n",
    "        return f\"Error loading file: {e}\"\n",
    "\n",
    "    # Initialize the report\n",
    "    report = \"--- Data Quality Summary Report ---\\n\\n\"\n",
    "\n",
    "    # 1. Missing Values Check\n",
    "    missing_values = data.isnull().sum()\n",
    "    missing_summary = missing_values[missing_values > 0]\n",
    "    report += \"1. Missing Values:\\n\"\n",
    "    if missing_summary.empty:\n",
    "        report += \"   No missing values detected.\\n\"\n",
    "    else:\n",
    "        report += f\"{missing_summary}\\n\\n\"\n",
    "\n",
    "    # 2. Duplicate Rows Check\n",
    "    duplicate_rows = data[data.duplicated()]\n",
    "    num_duplicates = len(duplicate_rows)\n",
    "    report += \"2. Duplicate Rows:\\n\"\n",
    "    report += f\"   Number of duplicate rows: {num_duplicates}\\n\\n\"\n",
    "\n",
    "    # 3. Outlier Detection (IQR Method)\n",
    "    outlier_summary = {}\n",
    "    for col in data.select_dtypes(include=np.number).columns:\n",
    "        Q1 = data[col].quantile(0.25)\n",
    "        Q3 = data[col].quantile(0.75)\n",
    "        IQR = Q3 - Q1\n",
    "        lower_bound = Q1 - 1.5 * IQR\n",
    "        upper_bound = Q3 + 1.5 * IQR\n",
    "        outliers = data[(data[col] < lower_bound) | (data[col] > upper_bound)]\n",
    "        outlier_summary[col] = len(outliers)\n",
    "    \n",
    "    report += \"3. Outliers Detected:\\n\"\n",
    "    for col, count in outlier_summary.items():\n",
    "        report += f\"   {col}: {count} outlier(s)\\n\"\n",
    "    if not outlier_summary:\n",
    "        report += \"   No numerical columns found for outlier detection.\\n\"\n",
    "\n",
    "    # Save the report to a file\n",
    "    with open(report_file, \"w\", encoding=\"utf-8\") as file:\n",
    "        file.write(report)\n",
    "\n",
    "    print(f\"Data Quality Check complete. Summary saved to '{report_file}'.\")\n",
    "    return report\n",
    "\n",
    "# Example usage\n",
    "if __name__ == \"__main__\":\n",
    "    file_path = \"wine.csv\"  # Replace with your dataset\n",
    "    report = data_quality_check(file_path)\n",
    "    print(report)\n"
   ]
  },
  {
   "cell_type": "code",
   "execution_count": null,
   "metadata": {},
   "outputs": [],
   "source": []
  }
 ],
 "metadata": {
  "kernelspec": {
   "display_name": "base",
   "language": "python",
   "name": "python3"
  },
  "language_info": {
   "codemirror_mode": {
    "name": "ipython",
    "version": 3
   },
   "file_extension": ".py",
   "mimetype": "text/x-python",
   "name": "python",
   "nbconvert_exporter": "python",
   "pygments_lexer": "ipython3",
   "version": "3.11.5"
  }
 },
 "nbformat": 4,
 "nbformat_minor": 2
}
